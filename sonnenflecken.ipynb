{
  "cells": [
    {
      "cell_type": "raw",
      "metadata": {},
      "source": [
        "---\n",
        "title: \"Sonnenflecken\"\n",
        "code-fold: true\n",
        "---"
      ],
      "id": "01c0a14c"
    },
    {
      "cell_type": "markdown",
      "metadata": {},
      "source": [
        "Sonnenflecken sind dunkle Stellen auf der Sonnenoberfläche. Sie sind kühler und strahlen weniger sichtbares Licht ab als der Rest der Sonnenoberfläche.\n",
        "\n",
        "Sonnenflecken bilden das einfachste Maß für die Sonnenaktivität.\n",
        "\n",
        "Die Häufigkeit der Sonnenflecken unterliegt einer Periodizität von durchschnittlich 11 Jahren.\n",
        "\n",
        "Ursache der Sonnenflecken sind starke Magnetfelder, welche den Wärmetransport an die Sonnenoberfläche behindern.\n",
        "\n",
        "![](images/paste-612C7829.png)\n",
        "\n",
        "\n",
        "{{< youtube eUNiR-69eTA >}}\n",
        "\n",
        "\n",
        "\n",
        "## Sonnenfleckenrelativzahl\n",
        "\n",
        "Die Häufigkeit der Sonnenflecken wird durch die Relativzahl erfasst.\n",
        "\n",
        "man zählt die Einzelflecken (Zahl $f$) und addiert dazu das Zehnfache der Gruppenanzahl (Zahl $g$).\n",
        "\n",
        "Die Sonnenfleckenrelativzahl ist eine Maßzahl der Sonnenaktivität und berechnet sich aus\n",
        "\n",
        "$$\n",
        "R = k ( f + 10 g)\n",
        "$$\n",
        "\n",
        "wobei $k$ ein vom Beobachter und seinen Instrumenten abhängiger Korrekturfaktor ist.\n",
        "\n",
        "## Aufzeichnungen der Sonnenfleckenrelativzahl\n",
        "\n",
        "Zuständig für die Berechnung, Speicherung und Verbreitung der Sonnenfleckenrelativzahl ist das [Solar Influences Data analysis Center (SIDC)](https://www.sidc.be/silso/home).\n",
        "\n",
        "![](images/paste-F8C5D725.png)\n",
        "\n",
        "![](images/paste-DE59FE1D.png)\n",
        "\n",
        "Wir wollen nun die aktuellen Daten visualisieren und analysieren. dazu nutzen wir einenDatensatz der Monatsmittelwerte der Sonnenfleckenrelativzahl von 1749 bis heute.\n"
      ],
      "id": "d415c380"
    },
    {
      "cell_type": "code",
      "metadata": {},
      "source": [
        "using DataFrames\n",
        "using CSV\n",
        "using Plots\n",
        "theme(:vibrant)\n",
        "default(frame_style=:box)\n",
        "df = CSV.read(\"SN_m_tot_V2.0.csv\", delim=\";\", header=1,  DataFrame)\n",
        "t = df[:, :FracOfYear]\n",
        "SN = df[:, :SN]\n",
        "plot(t, SN, label=\"\")\n",
        "xlabel!(\"Jahr\")\n",
        "ylabel!(\"Sonnenfleckenrelativzahl\")"
      ],
      "id": "b1e8b8e8",
      "execution_count": null,
      "outputs": []
    },
    {
      "cell_type": "markdown",
      "metadata": {},
      "source": [
        "Wir versuchen nun, die offensichtlich vorhandene Periodizität zu berechnen und nutzen dafür die Schnelle Fourietransformation `FFT`.\n"
      ],
      "id": "8e7b58a0"
    },
    {
      "cell_type": "code",
      "metadata": {},
      "source": [
        "using FFTW\n",
        "using Statistics\n",
        "S = fft(SN .- mean(SN))\n",
        "popfirst!(S)\n",
        "plot(abs.(S), label=\"\")\n",
        "ylabel!(\"Amplitudenspektrum\")"
      ],
      "id": "90029abc",
      "execution_count": null,
      "outputs": []
    },
    {
      "cell_type": "code",
      "metadata": {},
      "source": [
        "n = length(S)\n",
        "up = Int(floor(n/2))\n",
        "power = abs.(S[1:up, :]).^2\n",
        "samplinginterval = 1.0 / 12.0\n",
        "nyquist = 1 / (2 * samplinginterval)\n",
        "freq = [1:up...] ./ (n / 2) * nyquist\n",
        "plot(freq, power)\n",
        "xlabel!(\"Frequenz in 1/a\")\n",
        "ylabel!(\"Powerspektrum\")"
      ],
      "id": "b420d0b6",
      "execution_count": null,
      "outputs": []
    },
    {
      "cell_type": "code",
      "metadata": {},
      "source": [
        "period = 1 ./ freq\n",
        "i = argmax(power)\n",
        "\n",
        "plot(period, power, xscale=:log10, label=\"\")\n",
        "scatter!([period[i]], [power[i]], m=:o, label=\"\")\n",
        "xlabel!(\"Periodendauer in a\")\n",
        "ylabel!(\"Powerspektrum\")\n",
        "title!(\"Sonnenfleckenzyklus: $(round(period[i], digits=2)) a\")"
      ],
      "id": "cba5d605",
      "execution_count": null,
      "outputs": []
    }
  ],
  "metadata": {
    "kernelspec": {
      "name": "julia-1.8",
      "language": "julia",
      "display_name": "Julia 1.8.2"
    }
  },
  "nbformat": 4,
  "nbformat_minor": 5
}